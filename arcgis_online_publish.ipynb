{
 "cells": [
  {
   "cell_type": "code",
   "execution_count": null,
   "metadata": {},
   "outputs": [],
   "source": [
    "from IPython.display import display\n",
    "from arcgis.gis import GIS\n",
    "import os\n",
    "\n",
    "## Connection info for you ArcGIS Online account\n",
    "username = \"USERNAME\"\n",
    "password = \"PWD\"\n",
    "gis = GIS(\"https://www.arcgis.com\", username, password)"
   ]
  },
  {
   "cell_type": "code",
   "execution_count": null,
   "metadata": {},
   "outputs": [],
   "source": [
    "## Delete existing items\n",
    "def delete_existing_items(item_types, name_list):\n",
    "    \"\"\"\n",
    "    param: items_types - list e.g. [\"Feature Layer\", \"Shapefile\", ....]\n",
    "    param: name_list - list e.g. [\"Name 1\", \"Name 2\", ...]\n",
    "    \"\"\"\n",
    "    for current_item_type in item_types:\n",
    "        for file_name in name_list:\n",
    "            search_result = gis.content.search(\n",
    "                query=file_name, item_type=current_item_type\n",
    "            )\n",
    "            if len(search_result) > 0:\n",
    "                for item in search_result:\n",
    "                    item.delete()\n",
    "                    print(\"Deleted existing \" + current_item_type + \": \", item)"
   ]
  },
  {
   "cell_type": "code",
   "execution_count": null,
   "metadata": {},
   "outputs": [],
   "source": [
    "## Delete an existing folder\n",
    "def delete_existing_folder(folder_name):\n",
    "    try:\n",
    "        return gis.content.delete_folder(folder=folder_name)\n",
    "    except:\n",
    "        return False"
   ]
  },
  {
   "cell_type": "code",
   "execution_count": null,
   "metadata": {},
   "outputs": [],
   "source": [
    "## to delete existing items\n",
    "item_types = [\"NAMES OF ITEM TYPES\"]\n",
    "name_list = [\"NAMES OF ITEMS\"]\n",
    "delete_existing_items(item_types, name_list)"
   ]
  },
  {
   "cell_type": "code",
   "execution_count": null,
   "metadata": {},
   "outputs": [],
   "source": [
    "## to publish zipped shapefile and display the content\n",
    "data = \"PATH TO ZIP CONTAINING SHAPEFILE\"\n",
    "item_properties = {\"title\": \"TITLE GOES HERE\", \"type\": \"Shapefile\"}\n",
    "shpfile = gis.content.add(item_properties, data)\n",
    "shpfile"
   ]
  },
  {
   "cell_type": "code",
   "execution_count": null,
   "metadata": {},
   "outputs": [],
   "source": [
    "published_service = shpfile.publish()\n",
    "display(published_service)"
   ]
  },
  {
   "cell_type": "code",
   "execution_count": null,
   "metadata": {},
   "outputs": [],
   "source": [
    "## to create a new folder\n",
    "new_folder_name = \"NEW FOLDER NAME\"\n",
    "new_folder_details = gis.content.create_folder(new_folder_name)\n",
    "print(new_folder_details)"
   ]
  },
  {
   "cell_type": "code",
   "execution_count": null,
   "metadata": {},
   "outputs": [],
   "source": [
    "## move shapefile to the new folder\n",
    "shpfile.move(new_folder_details)"
   ]
  },
  {
   "cell_type": "code",
   "execution_count": null,
   "metadata": {},
   "outputs": [],
   "source": [
    "## move the published service to the new folder\n",
    "published_service.move(new_folder_details)"
   ]
  },
  {
   "cell_type": "code",
   "execution_count": null,
   "metadata": {},
   "outputs": [],
   "source": []
  }
 ],
 "metadata": {
  "language_info": {
   "codemirror_mode": {
    "name": "ipython",
    "version": 3
   },
   "file_extension": ".py",
   "mimetype": "text/x-python",
   "name": "python",
   "nbconvert_exporter": "python",
   "pygments_lexer": "ipython3",
   "version": "3.7.6-final"
  },
  "orig_nbformat": 2,
  "kernelspec": {
   "name": "python37664bitgeospatialconda3bfbf3f3d9094b1096fa84070c7a16c9",
   "display_name": "Python 3.7.6 64-bit ('geospatial': conda)"
  }
 },
 "nbformat": 4,
 "nbformat_minor": 2
}